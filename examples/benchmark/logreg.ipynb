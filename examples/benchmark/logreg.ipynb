{
 "cells": [
  {
   "cell_type": "markdown",
   "metadata": {},
   "source": [
    "# Logistic regression with Skale\n",
    "In this example we will:\n",
    "* Load a SVM data file\n",
    "* Parse the file data to produce a label/features dataset\n",
    "* Compute a logistic regression model from the cleaned-up data"
   ]
  },
  {
   "cell_type": "markdown",
   "metadata": {},
   "source": [
    "We first establish a connection to our local skale cluster."
   ]
  },
  {
   "cell_type": "code",
   "execution_count": 1,
   "metadata": {
    "collapsed": false
   },
   "outputs": [],
   "source": [
    "var sc = require('skale-engine').context();"
   ]
  },
  {
   "cell_type": "markdown",
   "metadata": {},
   "source": [
    "Later we will use LogisticRegression from skale-ml package."
   ]
  },
  {
   "cell_type": "code",
   "execution_count": 2,
   "metadata": {
    "collapsed": false
   },
   "outputs": [],
   "source": [
    "var LogisticRegression = require('../../lib/ml.js').LogisticRegression;"
   ]
  },
  {
   "cell_type": "markdown",
   "metadata": {},
   "source": [
    "We will process SVM data from the following file."
   ]
  },
  {
   "cell_type": "code",
   "execution_count": 3,
   "metadata": {
    "collapsed": false
   },
   "outputs": [],
   "source": [
    "var file = '1MB.dat';"
   ]
  },
  {
   "cell_type": "markdown",
   "metadata": {},
   "source": [
    "Let's configure now the number of iterations of the Gradient Descent."
   ]
  },
  {
   "cell_type": "code",
   "execution_count": 4,
   "metadata": {
    "collapsed": false
   },
   "outputs": [],
   "source": [
    "var nIterations = 100;"
   ]
  },
  {
   "cell_type": "markdown",
   "metadata": {},
   "source": [
    "Next step is to load the file, parse its data and make it persistent to speedup SGD computation.\n",
    "Here we have to:\n",
    "* declare a parse function to apply on each line of file\n",
    "* read, parse and make data persistent\n",
    "* Instantiate the logistic regression model"
   ]
  },
  {
   "cell_type": "code",
   "execution_count": 5,
   "metadata": {
    "collapsed": false
   },
   "outputs": [],
   "source": [
    "function featurize(line) {\n",
    "\tvar tmp = line.split(' ').map(Number);\n",
    "\tvar label = tmp.shift();\t// in the current implementatuon we use [-1,1] labels\n",
    "\tvar features = tmp;\n",
    "\treturn [label, features];\n",
    "}\n",
    "\n",
    "var points = sc.textFile(file).map(featurize).persist();\n",
    "var model = new LogisticRegression(points);"
   ]
  },
  {
   "cell_type": "markdown",
   "metadata": {},
   "source": [
    "We can now train the logistic regression model, display the corresponding weights and end the skale context session."
   ]
  },
  {
   "cell_type": "code",
   "execution_count": 6,
   "metadata": {
    "collapsed": false
   },
   "outputs": [
    {
     "name": "stdout",
     "output_type": "stream",
     "text": [
      "Training the model\n"
     ]
    },
    {
     "data": {
      "text/plain": [
       "'Model weihgts'"
      ]
     },
     "execution_count": 6,
     "metadata": {},
     "output_type": "execute_result"
    },
    {
     "name": "stdout",
     "output_type": "stream",
     "text": [
      "[ 0.07108592927358098,\n",
      "  -0.01801131135327628,\n",
      "  0.029413920971592625,\n",
      "  -0.011048374155598496,\n",
      "  -0.030792086383627498,\n",
      "  -0.04555072250502138,\n",
      "  0.02783853211502679,\n",
      "  0.015113741868162311,\n",
      "  0.05240233461879465,\n",
      "  0.007476793196863204,\n",
      "  0.058092189479234974,\n",
      "  0.0583245704377878,\n",
      "  0.014039084157146619,\n",
      "  0.03393245454621385,\n",
      "  0.022377967234837086,\n",
      "  0.009657701508329865 ]\n"
     ]
    }
   ],
   "source": [
    "$$async$$ = true;\n",
    "\n",
    "console.log('Training the model')\n",
    "model.train(nIterations, function() {\n",
    "    $$done$$('Model weihgts');\n",
    "\tconsole.log(model.weights);\n",
    "    // sc.end();\n",
    "});"
   ]
  }
 ],
 "metadata": {
  "kernelspec": {
   "display_name": "Javascript (Node.js)",
   "language": "javascript",
   "name": "javascript"
  },
  "language_info": {
   "file_extension": ".js",
   "mimetype": "application/javascript",
   "name": "javascript",
   "version": "4.1.2"
  }
 },
 "nbformat": 4,
 "nbformat_minor": 0
}
