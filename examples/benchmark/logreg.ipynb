{
 "cells": [
  {
   "cell_type": "markdown",
   "metadata": {},
   "source": [
    "# Logistic regression with Skale\n",
    "In this example we will:\n",
    "* Load a SVM data file\n",
    "* Parse the file data to produce a label/features dataset\n",
    "* Compute a logistic regression model from the cleaned-up data"
   ]
  },
  {
   "cell_type": "markdown",
   "metadata": {},
   "source": [
    "We first establish a connection to our local skale cluster."
   ]
  },
  {
   "cell_type": "code",
   "execution_count": 9,
   "metadata": {
    "collapsed": false
   },
   "outputs": [
    {
     "data": {
      "text/plain": [
       "undefined"
      ]
     },
     "execution_count": 9,
     "metadata": {},
     "output_type": "execute_result"
    }
   ],
   "source": [
    "var sc = require('skale-engine').context();"
   ]
  },
  {
   "cell_type": "markdown",
   "metadata": {},
   "source": [
    "Later we will use LogisticRegression from skale-ml package."
   ]
  },
  {
   "cell_type": "code",
   "execution_count": 15,
   "metadata": {
    "collapsed": false
   },
   "outputs": [
    {
     "data": {
      "text/plain": [
       "undefined"
      ]
     },
     "execution_count": 15,
     "metadata": {},
     "output_type": "execute_result"
    }
   ],
   "source": [
    "var LogisticRegressionWithSGD = require('skale-ml').LogisticRegressionWithSGD;"
   ]
  },
  {
   "cell_type": "code",
   "execution_count": null,
   "metadata": {
    "collapsed": true
   },
   "outputs": [],
   "source": []
  },
  {
   "cell_type": "markdown",
   "metadata": {},
   "source": [
    "We will process SVM data from the following file."
   ]
  },
  {
   "cell_type": "code",
   "execution_count": 11,
   "metadata": {
    "collapsed": false
   },
   "outputs": [
    {
     "data": {
      "text/plain": [
       "undefined"
      ]
     },
     "execution_count": 11,
     "metadata": {},
     "output_type": "execute_result"
    }
   ],
   "source": [
    "var file = '1MB.dat';"
   ]
  },
  {
   "cell_type": "markdown",
   "metadata": {},
   "source": [
    "Let's configure now the number of iterations of the Gradient Descent."
   ]
  },
  {
   "cell_type": "code",
   "execution_count": 12,
   "metadata": {
    "collapsed": false
   },
   "outputs": [
    {
     "data": {
      "text/plain": [
       "undefined"
      ]
     },
     "execution_count": 12,
     "metadata": {},
     "output_type": "execute_result"
    }
   ],
   "source": [
    "var nIterations = 100;"
   ]
  },
  {
   "cell_type": "markdown",
   "metadata": {},
   "source": [
    "Next step is to load the file, parse its data and make it persistent to speedup SGD computation.\n",
    "Here we have to:\n",
    "* declare a parse function to apply on each line of file\n",
    "* read, parse and make data persistent\n",
    "* Instantiate the logistic regression model"
   ]
  },
  {
   "cell_type": "code",
   "execution_count": 16,
   "metadata": {
    "collapsed": false
   },
   "outputs": [
    {
     "data": {
      "text/plain": [
       "undefined"
      ]
     },
     "execution_count": 16,
     "metadata": {},
     "output_type": "execute_result"
    }
   ],
   "source": [
    "function featurize(line) {\n",
    "\tvar tmp = line.split(' ').map(Number);\n",
    "\tvar label = tmp.shift();\t// in the current implementatuon we use [-1,1] labels\n",
    "\tvar features = tmp;\n",
    "\treturn [label, features];\n",
    "}\n",
    "\n",
    "var points = sc.textFile(file).map(featurize).persist();\n",
    "var model = new LogisticRegressionWithSGD(points);"
   ]
  },
  {
   "cell_type": "markdown",
   "metadata": {},
   "source": [
    "We can now train the logistic regression model, display the corresponding weights and end the skale context session."
   ]
  },
  {
   "cell_type": "code",
   "execution_count": 17,
   "metadata": {
    "collapsed": false
   },
   "outputs": [
    {
     "name": "stdout",
     "output_type": "stream",
     "text": [
      "Training the model\n"
     ]
    },
    {
     "data": {
      "text/plain": [
       "'Model weihgts'"
      ]
     },
     "execution_count": 17,
     "metadata": {},
     "output_type": "execute_result"
    },
    {
     "name": "stdout",
     "output_type": "stream",
     "text": [
      "[ 0.01862947222090935,\n",
      "  -0.009317257092179662,\n",
      "  0.006128433885591684,\n",
      "  -0.005078913714344074,\n",
      "  -0.006436481373633998,\n",
      "  -0.011966412484395544,\n",
      "  -0.0034335414720000853,\n",
      "  -0.0036854001908130274,\n",
      "  0.01588145866024616,\n",
      "  0.0059521891199994775,\n",
      "  0.00703678422943582,\n",
      "  0.013705569861589493,\n",
      "  0.004781663200054005,\n",
      "  -0.0021114047157757055,\n",
      "  0.006340838764418541,\n",
      "  0.0031005505329783703 ]\n"
     ]
    }
   ],
   "source": [
    "$$async$$ = true;\n",
    "\n",
    "console.log('Training the model')\n",
    "model.train(nIterations, function() {\n",
    "    $$done$$('Model weihgts');\n",
    "\tconsole.log(model.weights);\n",
    "    // sc.end();\n",
    "});"
   ]
  }
 ],
 "metadata": {
  "kernelspec": {
   "display_name": "Javascript (Node.js)",
   "language": "javascript",
   "name": "javascript"
  },
  "language_info": {
   "file_extension": ".js",
   "mimetype": "application/javascript",
   "name": "javascript",
   "version": "4.1.2"
  }
 },
 "nbformat": 4,
 "nbformat_minor": 0
}
