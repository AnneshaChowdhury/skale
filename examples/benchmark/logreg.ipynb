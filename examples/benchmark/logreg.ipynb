{
 "cells": [
  {
   "cell_type": "markdown",
   "metadata": {},
   "source": [
    "# Logistic regression with Skale\n",
    "In this example we will:\n",
    "* Load a SVM data file\n",
    "* Parse the file data to produce a label/features dataset\n",
    "* Compute a logistic regression model from the cleaned-up data"
   ]
  },
  {
   "cell_type": "markdown",
   "metadata": {},
   "source": [
    "This example require skale engine and skale machine learning library."
   ]
  },
  {
   "cell_type": "code",
   "execution_count": 1,
   "metadata": {
    "collapsed": false
   },
   "outputs": [
    {
     "data": {
      "text/plain": [
       "undefined"
      ]
     },
     "execution_count": 1,
     "metadata": {},
     "output_type": "execute_result"
    }
   ],
   "source": [
    "var sc = require('skale-engine').context();\n",
    "var ml = require('../../lib/ml.js');"
   ]
  },
  {
   "cell_type": "markdown",
   "metadata": {},
   "source": [
    "Here we declare the file and the number of iterations we want to compute"
   ]
  },
  {
   "cell_type": "code",
   "execution_count": 7,
   "metadata": {
    "collapsed": false
   },
   "outputs": [
    {
     "data": {
      "text/plain": [
       "undefined"
      ]
     },
     "execution_count": 7,
     "metadata": {},
     "output_type": "execute_result"
    }
   ],
   "source": [
    "var file = '1MB.dat';\n",
    "var nIterations = 1000;"
   ]
  },
  {
   "cell_type": "markdown",
   "metadata": {},
   "source": [
    "Next step is to load the file, parse its data and make it persistent to speedup SGD computation.\n",
    "Here we have to:\n",
    "* declare a parse function to apply on each line of file\n",
    "* read, parse and make data persistent\n",
    "* Instantiate the logistic regression model"
   ]
  },
  {
   "cell_type": "code",
   "execution_count": 3,
   "metadata": {
    "collapsed": false
   },
   "outputs": [
    {
     "data": {
      "text/plain": [
       "undefined"
      ]
     },
     "execution_count": 3,
     "metadata": {},
     "output_type": "execute_result"
    }
   ],
   "source": [
    "function featurize(line) {\n",
    "\tvar tmp = line.split(' ').map(Number);\n",
    "\tvar label = tmp.shift();\t// in the current implementatuon we use [-1,1] labels\n",
    "\tvar features = tmp;\n",
    "\treturn [label, features];\n",
    "}\n",
    "\n",
    "var points = sc.textFile(file).map(featurize).persist();\n",
    "var model = new ml.LogisticRegression(points);"
   ]
  },
  {
   "cell_type": "markdown",
   "metadata": {},
   "source": [
    "We can now train the logistic regression model, display the corresponding weights and end the skale context session."
   ]
  },
  {
   "cell_type": "code",
   "execution_count": 8,
   "metadata": {
    "collapsed": false
   },
   "outputs": [
    {
     "data": {
      "text/plain": [
       "Promise { <pending> }"
      ]
     },
     "execution_count": 8,
     "metadata": {},
     "output_type": "execute_result"
    },
    {
     "name": "stdout",
     "output_type": "stream",
     "text": [
      "[ 0.08560103144148246,\n",
      "  -0.02283328762610149,\n",
      "  0.037065881046184974,\n",
      "  -0.015286816015768478,\n",
      "  -0.03981599411166087,\n",
      "  -0.05688451861864538,\n",
      "  0.03557892256712807,\n",
      "  0.019995203218680712,\n",
      "  0.06584197566854227,\n",
      "  0.010171232600485181,\n",
      "  0.07386538634307696,\n",
      "  0.07080874413719787,\n",
      "  0.018606204733358098,\n",
      "  0.04250180362300828,\n",
      "  0.030073492798255823,\n",
      "  0.01144936532322607 ]\n"
     ]
    }
   ],
   "source": [
    "model.train(nIterations, function() {\n",
    "\tconsole.log(model.weights);\n",
    "\t//sc.end();\n",
    "});"
   ]
  },
  {
   "cell_type": "code",
   "execution_count": null,
   "metadata": {
    "collapsed": true
   },
   "outputs": [],
   "source": []
  }
 ],
 "metadata": {
  "kernelspec": {
   "display_name": "Javascript (Node.js)",
   "language": "javascript",
   "name": "javascript"
  },
  "language_info": {
   "file_extension": ".js",
   "mimetype": "application/javascript",
   "name": "javascript",
   "version": "4.1.2"
  }
 },
 "nbformat": 4,
 "nbformat_minor": 0
}
